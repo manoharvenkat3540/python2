{
 "cells": [
  {
   "cell_type": "code",
   "execution_count": 28,
   "id": "a514575e-b662-498b-9432-60d4a61d4ac9",
   "metadata": {},
   "outputs": [],
   "source": [
    "import random\n",
    "import time"
   ]
  },
  {
   "cell_type": "code",
   "execution_count": 4,
   "id": "841b3ffb-7da9-41b6-aaac-0c3f65035c20",
   "metadata": {},
   "outputs": [
    {
     "name": "stdout",
     "output_type": "stream",
     "text": [
      "The square of 2 is 4\n"
     ]
    }
   ],
   "source": [
    "number=random.randint(1,10)\n",
    "square=number**2\n",
    "print(f\"The square of {number} is {square}\")"
   ]
  },
  {
   "cell_type": "code",
   "execution_count": 9,
   "id": "c1f59b86-a0af-4550-b92b-97cb6482a9db",
   "metadata": {},
   "outputs": [
    {
     "name": "stdout",
     "output_type": "stream",
     "text": [
      "3----6----9----12----15\n"
     ]
    }
   ],
   "source": [
    "x=random.randint(1,20)\n",
    "print(x,x*2,x*3,x*4,x*5,sep='----')"
   ]
  },
  {
   "cell_type": "code",
   "execution_count": 10,
   "id": "331adf8d-6021-41cf-895d-78dc4a6935fa",
   "metadata": {},
   "outputs": [
    {
     "name": "stdout",
     "output_type": "stream",
     "text": [
      "the converstion of 8 into 2.2 is 17.6\n"
     ]
    }
   ],
   "source": [
    "kilogram=random.randint(1,10)\n",
    "pounds=2.2\n",
    "converstion=kilogram*pounds\n",
    "print(f\"the converstion of {kilogram} into {pounds} is {converstion}\")"
   ]
  },
  {
   "cell_type": "code",
   "execution_count": 11,
   "id": "1da005ee-dbba-491e-a994-880415433b22",
   "metadata": {},
   "outputs": [
    {
     "name": "stdout",
     "output_type": "stream",
     "text": [
      "The sum of 3 numbers is 49 and average is 16.333333333333332\n"
     ]
    }
   ],
   "source": [
    "n1=random.randint(1,10)\n",
    "n2=random.randint(10,20)\n",
    "n3=random.randint(20,30)\n",
    "total=n1+n2+n3\n",
    "average=total/3\n",
    "print(\"The sum of 3 numbers is {} and average is {}\".format(total,average))"
   ]
  },
  {
   "cell_type": "code",
   "execution_count": 15,
   "id": "a827fdb6-23a2-4c1e-a69d-e7e94293d63f",
   "metadata": {},
   "outputs": [
    {
     "name": "stdout",
     "output_type": "stream",
     "text": [
      "The price of the meal 581 and the tip percentage 8 is :589\n"
     ]
    }
   ],
   "source": [
    "price_of_meal=random.randint(100,1000)\n",
    "percentage_tip_ammount=random.randint(1,10)\n",
    "total_amount=price_of_meal+percentage_tip_ammount\n",
    "print(f\"The price of the meal {price_of_meal} and the tip percentage {percentage_tip_ammount} is :{total_amount}\")"
   ]
  },
  {
   "cell_type": "code",
   "execution_count": 18,
   "id": "069ad38c-a446-4b4d-b57b-e7af96d40ac0",
   "metadata": {},
   "outputs": [
    {
     "name": "stdout",
     "output_type": "stream",
     "text": [
      "The substraction of the three numbers -19 and addition 21 ,multiplication 20 and division 0.05\n"
     ]
    }
   ],
   "source": [
    "number1=random.randint(1,10)\n",
    "number2=random.randint(20,20)\n",
    "substraction=number1-number2\n",
    "addition=number1+number2\n",
    "multiplication=number1*number2\n",
    "division=number1/number2\n",
    "print(\"The substraction of the three numbers {} and addition {} ,multiplication {} and division {}\".format(substraction,addition,multiplication,division))"
   ]
  },
  {
   "cell_type": "code",
   "execution_count": 23,
   "id": "98694b8e-0be2-4fb0-9c37-1024711c96ef",
   "metadata": {},
   "outputs": [
    {
     "name": "stdout",
     "output_type": "stream",
     "text": [
      "The radius is 6 , pi value is 3.14 the area od the circle is :113.03999999999999\n"
     ]
    }
   ],
   "source": [
    "circle=random.randint(1,10)\n",
    "pi=3.14\n",
    "area_of_circle=pi*circle*circle\n",
    "print(f\"The radius is {circle} , pi value is {pi} the area od the circle is :{area_of_circle}\")"
   ]
  },
  {
   "cell_type": "code",
   "execution_count": 25,
   "id": "4753d0d4-a3c0-4fc4-87c1-812edd840c56",
   "metadata": {},
   "outputs": [
    {
     "name": "stdin",
     "output_type": "stream",
     "text": [
      "enter the dollare ammount in indian rupeess: 83.6\n"
     ]
    },
    {
     "name": "stdout",
     "output_type": "stream",
     "text": [
      "the total bill amount is 4361 and the dollar amount is 83.6, total ammount in rupess  :364579.6\n"
     ]
    }
   ],
   "source": [
    "bill=random.randint(1000,5000)\n",
    "dollar=eval(input(\"enter the dollare ammount in indian rupeess:\"))\n",
    "rupess=bill*dollar\n",
    "print(f\"the total bill amount is {bill} and the dollar amount is {dollar}, total ammount in rupess  :{rupess}\")"
   ]
  },
  {
   "cell_type": "code",
   "execution_count": 26,
   "id": "beaaa6e6-4ad2-42a9-9f82-640f3fa7a819",
   "metadata": {},
   "outputs": [
    {
     "name": "stdout",
     "output_type": "stream",
     "text": [
      "the base is 22 and the height of the triangle is 6 and the area is 66.0\n"
     ]
    }
   ],
   "source": [
    "base=random.randint(10,30)\n",
    "height=random.randint(5,15)\n",
    "area_of_the_triangle=1/2*base*height\n",
    "print(f\"the base is {base} and the height of the triangle is {height} and the area is {area_of_the_triangle}\")"
   ]
  },
  {
   "cell_type": "code",
   "execution_count": 27,
   "id": "42d6fb64-617d-4b03-9766-43afe51821fb",
   "metadata": {},
   "outputs": [
    {
     "name": "stdout",
     "output_type": "stream",
     "text": [
      "The  length 23 and breadth 36 and the area of the rectangle is 828\n"
     ]
    }
   ],
   "source": [
    "length=random.randint(20,30)\n",
    "breadth=random.randint(30,40)\n",
    "area_of_rectangle=length*breadth\n",
    "print(f\"The  length {length} and breadth {breadth} and the area of the rectangle is {area_of_rectangle}\")"
   ]
  },
  {
   "cell_type": "code",
   "execution_count": 34,
   "id": "fdc53790-fe0f-4019-826c-eda21df8b3ec",
   "metadata": {},
   "outputs": [
    {
     "name": "stdout",
     "output_type": "stream",
     "text": [
      "Father: Hey Baby!\n",
      "Daughter: Hello Dady\n",
      "Father: I heard your exams are over, what about result\n",
      "Daughter: Yes dad! Results are out\n",
      "Father: what is the percentage\n",
      "Daughter: I will give my subject wise marks , you tell me the percentage\n",
      "Father : Okay\n"
     ]
    },
    {
     "name": "stdin",
     "output_type": "stream",
     "text": [
      "Daughter: 100\n"
     ]
    },
    {
     "name": "stdout",
     "output_type": "stream",
     "text": [
      "The marks of 58 , 92 ,36 , 15 and 71 and the total is 272 the percentage of marks 54.400000000000006\n"
     ]
    }
   ],
   "source": [
    "print(\"Father: Hey Baby!\")\n",
    "time.sleep(2)\n",
    "print(\"Daughter: Hello Dady\")\n",
    "time.sleep(2)\n",
    "print(\"Father: I heard your exams are over, what about result\")\n",
    "time.sleep(3)\n",
    "print(\"Daughter: Yes dad! Results are out\")\n",
    "time.sleep(2)\n",
    "print(\"Father: what is the percentage\")\n",
    "time.sleep(4)\n",
    "print(\"Daughter: I will give my subject wise marks , you tell me the percentage\")\n",
    "time.sleep(2)\n",
    "print(\"Father : Okay\")\n",
    "time.sleep(2)\n",
    "sub1=random.randint(1,100)\n",
    "sub2=random.randint(1,100)\n",
    "sub3=random.randint(1,100)\n",
    "sub4=random.randint(1,100)\n",
    "sub5=random.randint(1,100)\n",
    "total_marks=sub1+sub2+sub3+sub4+sub5\n",
    "max_marks=eval(input(\"Daughter:\"))\n",
    "total_max=max_marks*5\n",
    "percentage=(total_marks/total_max)*100\n",
    "print(f\"The marks of {sub1} , {sub2} ,{sub3} , {sub4} and {sub5} and the total is {total_marks} the percentage of marks {percentage:}\")\n",
    "\n"
   ]
  }
 ],
 "metadata": {
  "kernelspec": {
   "display_name": "Python 3 (ipykernel)",
   "language": "python",
   "name": "python3"
  },
  "language_info": {
   "codemirror_mode": {
    "name": "ipython",
    "version": 3
   },
   "file_extension": ".py",
   "mimetype": "text/x-python",
   "name": "python",
   "nbconvert_exporter": "python",
   "pygments_lexer": "ipython3",
   "version": "3.11.7"
  }
 },
 "nbformat": 4,
 "nbformat_minor": 5
}
