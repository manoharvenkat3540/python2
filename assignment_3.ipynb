{
 "cells": [
  {
   "cell_type": "code",
   "execution_count": 1,
   "id": "f98f0be7-c7f1-4dfc-8111-08bb9ef66247",
   "metadata": {},
   "outputs": [
    {
     "name": "stdin",
     "output_type": "stream",
     "text": [
      "Enter the salary: 1000\n"
     ]
    },
    {
     "name": "stdout",
     "output_type": "stream",
     "text": [
      "the total salary after calculation is 1600.0\n"
     ]
    }
   ],
   "source": [
    "salary=eval(input(\"Enter the salary:\"))\n",
    "deamns_salary=(40/100)*salary\n",
    "rent_allowance=(20/100)*salary\n",
    "gross_salary=salary+deamns_salary+rent_allowance\n",
    "print(f\"the total salary after calculation is {gross_salary}\")"
   ]
  },
  {
   "cell_type": "code",
   "execution_count": 6,
   "id": "01d4413d-bb0c-4f02-9617-ac2f1f581f81",
   "metadata": {},
   "outputs": [
    {
     "name": "stdin",
     "output_type": "stream",
     "text": [
      "Enter the distance: 5\n"
     ]
    },
    {
     "name": "stdout",
     "output_type": "stream",
     "text": [
      "this distance in meters 5000, feet  16404.2, inches  (195, 370.1) and centimeters 500000.\n"
     ]
    }
   ],
   "source": [
    "distance=eval(input(\"Enter the distance:\"))\n",
    "meters=distance*1000\n",
    "centimeters=distance*100000\n",
    "feet=distance*3280.84\n",
    "inches=distance*39,370.1\n",
    "print(f\"this distance in meters {meters}, feet  {feet}, inches  {inches} and centimeters {centimeters}.\")"
   ]
  },
  {
   "cell_type": "code",
   "execution_count": 8,
   "id": "08fbf322-3430-425a-99b0-9445478fdc76",
   "metadata": {},
   "outputs": [
    {
     "name": "stdin",
     "output_type": "stream",
     "text": [
      "enter sub1 marks: 30\n",
      "enter sub2 marks: 40\n",
      "enter sub3 marks: 50\n",
      "enter sub4 marks: 60\n",
      "enter sub5 marks: 70\n"
     ]
    },
    {
     "name": "stdout",
     "output_type": "stream",
     "text": [
      "the agrgregate marks is 250 and the total marks50.0\n"
     ]
    }
   ],
   "source": [
    "sub1=eval(input(\"enter sub1 marks:\"))\n",
    "sub2=eval(input(\"enter sub2 marks:\"))\n",
    "sub3=eval(input(\"enter sub3 marks:\"))\n",
    "sub4=eval(input(\"enter sub4 marks:\"))\n",
    "sub5=eval(input(\"enter sub5 marks:\"))\n",
    "aggregate_marks=sub1+sub2+sub3+sub4+sub5\n",
    "total_marks=5*100\n",
    "percentage=(aggregate_marks/total_marks)*100\n",
    "print(f\"the agrgregate marks is {aggregate_marks} and the total marks{percentage}\")\n"
   ]
  },
  {
   "cell_type": "code",
   "execution_count": 14,
   "id": "88eb31a9-3d67-416b-9512-e8af4026b729",
   "metadata": {},
   "outputs": [
    {
     "name": "stdin",
     "output_type": "stream",
     "text": [
      "Enter the temperature in Fahrenheit:  10\n"
     ]
    },
    {
     "name": "stdout",
     "output_type": "stream",
     "text": [
      "Temperature in Celsius: -12.222222222222221\n"
     ]
    }
   ],
   "source": [
    "fahrenheit = eval(input(\"Enter the temperature in Fahrenheit: \"))\n",
    "celsius = (fahrenheit - 32) * 5 / 9\n",
    "print(f\"Temperature in Celsius: {celsius:}\")\n"
   ]
  },
  {
   "cell_type": "code",
   "execution_count": 17,
   "id": "5544b3bd-5102-4779-a856-b08a41bab9a7",
   "metadata": {},
   "outputs": [
    {
     "name": "stdin",
     "output_type": "stream",
     "text": [
      "enter the length  of the rectangle: 10\n",
      "enter the breadth of the rectangle: 20\n",
      "enter the radius of the curcle: 10\n"
     ]
    },
    {
     "name": "stdout",
     "output_type": "stream",
     "text": [
      "the area of the rectangle is200 and the perimeter of the rectangle is60 and the area of circle 314.0 and the circumference is 62.800000000000004\n"
     ]
    }
   ],
   "source": [
    "length=eval(input(\"enter the length  of the rectangle:\"))\n",
    "breadth=eval(input(\"enter the breadth of the rectangle:\"))\n",
    "radius=eval(input(\"enter the radius of the curcle:\"))\n",
    "areaof_rectangle=length*breadth\n",
    "perimeterof_rectangle=2*(length+breadth)\n",
    "aresof_circle=3.14*radius*radius\n",
    "circumferenceof_circle=2*3.14*radius\n",
    "print(f\"the area of the rectangle is{areaof_rectangle} and the perimeter of the rectangle is{perimeterof_rectangle} and the area of circle {aresof_circle} and the circumference is {circumferenceof_circle}\") "
   ]
  },
  {
   "cell_type": "code",
   "execution_count": 20,
   "id": "b2500016-a147-41b7-9a7b-ac769a0d4720",
   "metadata": {},
   "outputs": [
    {
     "name": "stdin",
     "output_type": "stream",
     "text": [
      "enter the value: 20\n",
      "enter the value: 30\n"
     ]
    },
    {
     "name": "stdout",
     "output_type": "stream",
     "text": [
      "after interchange c :30 and d 20\n"
     ]
    }
   ],
   "source": [
    "c=input(\"enter the value:\")\n",
    "d=input(\"enter the value:\")\n",
    "temp=c\n",
    "c=d\n",
    "d=temp\n",
    "print(f\"after interchange c :{c} and d {d}\")"
   ]
  },
  {
   "cell_type": "code",
   "execution_count": 21,
   "id": "4b86cf74-a0bd-4b51-a503-16e6f8090d84",
   "metadata": {},
   "outputs": [
    {
     "name": "stdin",
     "output_type": "stream",
     "text": [
      "enter a number: 23456\n"
     ]
    },
    {
     "name": "stdout",
     "output_type": "stream",
     "text": [
      "the reversed number is 65432\n"
     ]
    }
   ],
   "source": [
    "number=input(\"enter a number:\")\n",
    "reverse_string=number[::-1]\n",
    "print(f\"the reversed number is {reverse_string}\")"
   ]
  },
  {
   "cell_type": "code",
   "execution_count": 22,
   "id": "e336426e-31b4-406b-a3e0-fba873e7db76",
   "metadata": {},
   "outputs": [
    {
     "name": "stdin",
     "output_type": "stream",
     "text": [
      "enter a number: 2345\n"
     ]
    },
    {
     "name": "stdout",
     "output_type": "stream",
     "text": [
      "7\n"
     ]
    }
   ],
   "source": [
    "number=eval(input(\"enter a number:\"))\n",
    "first=number//1000\n",
    "last=number%10\n",
    "sum=first+last\n",
    "print(f\"{sum}\")"
   ]
  },
  {
   "cell_type": "code",
   "execution_count": 24,
   "id": "e3de2229-30ce-436c-8083-3ae7a0f5e1bf",
   "metadata": {},
   "outputs": [
    {
     "name": "stdin",
     "output_type": "stream",
     "text": [
      "enter the population: 80000\n"
     ]
    },
    {
     "name": "stdout",
     "output_type": "stream",
     "text": [
      "Total number of illiterate men: 13600.0 and Total number of illiterate women: 28000.0\n"
     ]
    }
   ],
   "source": [
    "population =eval(input(\"enter the population:\"))\n",
    "men_percentage = 52\n",
    "total_literacy_percentage = 48\n",
    "literate_men_percentage = 35\n",
    "total_men = (men_percentage / 100) * population\n",
    "total_women = population - total_men\n",
    "total_literate = (total_literacy_percentage / 100) * population\n",
    "literate_men = (literate_men_percentage / 100) * population\n",
    "literate_women = total_literate - literate_men\n",
    "illiterate_men = total_men - literate_men\n",
    "illiterate_women = total_women - literate_women\n",
    "print(f\"Total number of illiterate men: {illiterate_men} and Total number of illiterate women: {illiterate_women}\")"
   ]
  },
  {
   "cell_type": "code",
   "execution_count": 32,
   "id": "681d102b-e9a9-4b48-9334-f85f90298f02",
   "metadata": {},
   "outputs": [
    {
     "name": "stdin",
     "output_type": "stream",
     "text": [
      "Enter amount to be withdraw: 1550\n"
     ]
    },
    {
     "name": "stdout",
     "output_type": "stream",
     "text": [
      "the no of hundered notes are 15, the no of 50 notes are 1 and final ten notes are 0\n"
     ]
    }
   ],
   "source": [
    "amount=eval(input(\"Enter amount to be withdraw:\"))\n",
    "no_of_hundereds=amount//100\n",
    "remaing_amount=amount%100\n",
    "no_of_fiftys=remaing_amount//50\n",
    "remaing_amount=remaing_amount%50\n",
    "no_of_tens=remaing_amount//10\n",
    "print(f\"the no of hundered notes are {no_of_hundereds}, the no of 50 notes are {no_of_fiftys} and final ten notes are {no_of_tens}\")\n"
   ]
  },
  {
   "cell_type": "code",
   "execution_count": null,
   "id": "be4a3e4b-17c8-41e2-9e2d-802ed9e3cf91",
   "metadata": {},
   "outputs": [],
   "source": []
  }
 ],
 "metadata": {
  "kernelspec": {
   "display_name": "Python 3 (ipykernel)",
   "language": "python",
   "name": "python3"
  },
  "language_info": {
   "codemirror_mode": {
    "name": "ipython",
    "version": 3
   },
   "file_extension": ".py",
   "mimetype": "text/x-python",
   "name": "python",
   "nbconvert_exporter": "python",
   "pygments_lexer": "ipython3",
   "version": "3.11.7"
  }
 },
 "nbformat": 4,
 "nbformat_minor": 5
}
