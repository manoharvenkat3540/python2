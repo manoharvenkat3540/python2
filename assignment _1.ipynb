{
 "cells": [
  {
   "cell_type": "code",
   "execution_count": 1,
   "id": "11117f2c-12a5-4e31-8982-7c7fade84818",
   "metadata": {},
   "outputs": [
    {
     "name": "stdin",
     "output_type": "stream",
     "text": [
      "enter the number: 5\n"
     ]
    },
    {
     "name": "stdout",
     "output_type": "stream",
     "text": [
      "25\n"
     ]
    }
   ],
   "source": [
    "number=eval(input(\"enter the number:\"))\n",
    "square=number ** 2\n",
    "print(square)"
   ]
  },
  {
   "cell_type": "code",
   "execution_count": 3,
   "id": "ae1dda03-1c51-44bf-8bd8-3a4d85c9cace",
   "metadata": {},
   "outputs": [
    {
     "name": "stdin",
     "output_type": "stream",
     "text": [
      "Enter a number:  7\n"
     ]
    },
    {
     "name": "stdout",
     "output_type": "stream",
     "text": [
      "7---14---21---28---35\n"
     ]
    }
   ],
   "source": [
    "x = int(input(\"Enter a number: \"))\n",
    "\n",
    "print(x, 2*x, 3*x, 4*x, 5*x, sep='---')"
   ]
  },
  {
   "cell_type": "code",
   "execution_count": 4,
   "id": "0901876e-3144-40d3-8aa3-df518c4aed54",
   "metadata": {},
   "outputs": [
    {
     "name": "stdin",
     "output_type": "stream",
     "text": [
      "enter the killo: 5\n"
     ]
    },
    {
     "name": "stdout",
     "output_type": "stream",
     "text": [
      "enter the killo 5 and pounds 2.20462 and the final result 11.0231\n"
     ]
    }
   ],
   "source": [
    "killograms=eval(input(\"enter the killo:\"))\n",
    "pounds_1killo=2.20462\n",
    "converts=killograms*pounds_1killo\n",
    "print(\"enter the killo {} and pounds {} and the final result {}\".format(killograms,pounds_1killo,converts))"
   ]
  },
  {
   "cell_type": "code",
   "execution_count": 5,
   "id": "c456fda1-3856-4a6c-bc94-3bed66cb047e",
   "metadata": {},
   "outputs": [
    {
     "name": "stdin",
     "output_type": "stream",
     "text": [
      "enter n1: 2\n",
      "enter n2: 3\n",
      "enter n3: 4\n"
     ]
    },
    {
     "name": "stdout",
     "output_type": "stream",
     "text": [
      "The total sum is 9 and the average of three numbers is :3.0\n"
     ]
    }
   ],
   "source": [
    "n1=eval(input(\"enter n1:\"))\n",
    "n2=eval(input(\"enter n2:\"))\n",
    "n3=eval(input(\"enter n3:\"))\n",
    "total=n1+n2+n3\n",
    "average=total/3\n",
    "print(\"The total sum is {} and the average of three numbers is :{}\".format(total,average))"
   ]
  },
  {
   "cell_type": "code",
   "execution_count": 7,
   "id": "29e0e33a-dea9-488b-bdef-36fe5c66436b",
   "metadata": {},
   "outputs": [
    {
     "name": "stdin",
     "output_type": "stream",
     "text": [
      "enter the bill amount: 1000\n",
      "enter the tip amount: 10\n"
     ]
    },
    {
     "name": "stdout",
     "output_type": "stream",
     "text": [
      "1100.0\n"
     ]
    }
   ],
   "source": [
    "bill=eval(input(\"enter the bill amount:\"))\n",
    "tip=eval(input(\"enter the tip amount:\"))\n",
    "total=(bill*tip)/100\n",
    "print(total+bill)"
   ]
  },
  {
   "cell_type": "code",
   "execution_count": 2,
   "id": "2ec628e2-f5d5-430d-97a9-e1fabdc191ea",
   "metadata": {},
   "outputs": [
    {
     "name": "stdin",
     "output_type": "stream",
     "text": [
      "enter the n1: 2\n",
      "enter the n2: 4\n"
     ]
    },
    {
     "name": "stdout",
     "output_type": "stream",
     "text": [
      "the add of 6 ,sub -2 ,multi 8 and div 0.5 of two numbers\n"
     ]
    }
   ],
   "source": [
    "n1=eval(input(\"enter the n1:\"))\n",
    "n2=eval(input(\"enter the n2:\"))\n",
    "add=n1+n2\n",
    "sub=n1-n2\n",
    "multi=n1*n2\n",
    "div=n1/n2\n",
    "print(\"the add of {} ,sub {} ,multi {} and div {} of two numbers\".format(add,sub,multi,div))"
   ]
  },
  {
   "cell_type": "code",
   "execution_count": 4,
   "id": "9d25e529-d520-465c-9e75-a63b0af8b79b",
   "metadata": {},
   "outputs": [
    {
     "name": "stdin",
     "output_type": "stream",
     "text": [
      "Enter the radius: 6\n",
      "enter the pi value: 3.14\n"
     ]
    },
    {
     "name": "stdout",
     "output_type": "stream",
     "text": [
      "113.03999999999999\n"
     ]
    }
   ],
   "source": [
    "radius=eval(input(\"Enter the radius:\"))\n",
    "pi=eval(input(\"enter the pi value:\"))\n",
    "area=pi*radius*radius\n",
    "print(area)"
   ]
  },
  {
   "cell_type": "code",
   "execution_count": 12,
   "id": "aa650dd4-36c8-4356-92df-7416ad5a604d",
   "metadata": {},
   "outputs": [
    {
     "name": "stdin",
     "output_type": "stream",
     "text": [
      "enter the number: 5\n",
      "enter the 1 dollar in indian rupess: 83.65\n"
     ]
    },
    {
     "name": "stdout",
     "output_type": "stream",
     "text": [
      "418.25\n"
     ]
    }
   ],
   "source": [
    "bill_amount=eval(input(\"enter the number:\"))\n",
    "dollar=eval(input(\"enter the 1 dollar in indian rupess:\"))\n",
    "bill_in_indian_rupess=bill_amount*dollar\n",
    "print(bill_in_indian_rupess)"
   ]
  },
  {
   "cell_type": "code",
   "execution_count": 13,
   "id": "3e0d99a0-702e-4135-a245-7f21cd0b901c",
   "metadata": {},
   "outputs": [
    {
     "name": "stdin",
     "output_type": "stream",
     "text": [
      "enter the base: 10\n",
      "enter the height: 20\n"
     ]
    },
    {
     "name": "stdout",
     "output_type": "stream",
     "text": [
      "The area of the triangle is:100.0\n"
     ]
    }
   ],
   "source": [
    "base=eval(input(\"enter the base:\"))\n",
    "height=eval(input(\"enter the height:\"))\n",
    "area=1/2*base*height\n",
    "print(\"The area of the triangle is:{}\".format(area))"
   ]
  },
  {
   "cell_type": "code",
   "execution_count": 14,
   "id": "b40a8257-b745-4ffd-ab38-1c3644f85129",
   "metadata": {},
   "outputs": [
    {
     "name": "stdin",
     "output_type": "stream",
     "text": [
      "enter the lenght: 10\n",
      "enter the breadth: 20\n"
     ]
    },
    {
     "name": "stdout",
     "output_type": "stream",
     "text": [
      "the area of the rectangle 200\n"
     ]
    }
   ],
   "source": [
    "length=eval(input(\"enter the lenght:\"))\n",
    "breadth=eval(input(\"enter the breadth:\"))\n",
    "area=length*breadth\n",
    "print(f\"the area of the rectangle {area}\")"
   ]
  },
  {
   "cell_type": "code",
   "execution_count": 17,
   "id": "13479457-ff06-445d-8369-8d6b6769d50f",
   "metadata": {},
   "outputs": [
    {
     "name": "stdin",
     "output_type": "stream",
     "text": [
      "Father: h\n",
      "Daughter: h\n",
      "Father: h\n",
      "Daughter: h\n",
      "“Father: h\n",
      "“Daughter: h\n",
      "“Father: h\n",
      "First Language: 9\n",
      "“Second language: 9\n",
      "Third language: 9\n",
      "Science: 9\n",
      "Maths: 9\n",
      "Daughter: 9\n"
     ]
    },
    {
     "name": "stdout",
     "output_type": "stream",
     "text": [
      "the percentage of marks 100.00\n"
     ]
    }
   ],
   "source": [
    "input(\"Father:\")\n",
    "input(\"Daughter:\")\n",
    "input(\"Father:\")\n",
    "input(\"Daughter:\")\n",
    "input(\"“Father:\")\n",
    "input(\"“Daughter:\")\n",
    "input(\"“Father:\")\n",
    "sub1=eval(input(\"First Language:\"))\n",
    "sub2=eval(input(\"“Second language:\"))\n",
    "sub3=eval(input(\"Third language:\"))\n",
    "sub4=eval(input(\"Science:\"))\n",
    "sub5=eval(input(\"Maths:\"))\n",
    "total_marks=sub1+sub2+sub3+sub4+sub5\n",
    "max_marks=eval(input(\"Daughter:\"))\n",
    "total_max=max_marks*5\n",
    "percentage=(total_marks/total_max)*100\n",
    "print(f\"the percentage of marks {percentage:.2f}\")\n",
    "#Father: Tell me thex marks of each subject\n",
    "#max_marks=eval(input(“Daughter:”)) give=100\n",
    "\n",
    "#calculate the percentage of marks and print"
   ]
  },
  {
   "cell_type": "code",
   "execution_count": null,
   "id": "ed2ed34b-6aaf-447b-9acc-b60a69a81b0d",
   "metadata": {},
   "outputs": [],
   "source": []
  }
 ],
 "metadata": {
  "kernelspec": {
   "display_name": "Python 3 (ipykernel)",
   "language": "python",
   "name": "python3"
  },
  "language_info": {
   "codemirror_mode": {
    "name": "ipython",
    "version": 3
   },
   "file_extension": ".py",
   "mimetype": "text/x-python",
   "name": "python",
   "nbconvert_exporter": "python",
   "pygments_lexer": "ipython3",
   "version": "3.11.7"
  }
 },
 "nbformat": 4,
 "nbformat_minor": 5
}
