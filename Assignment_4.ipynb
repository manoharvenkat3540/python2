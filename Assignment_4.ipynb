{
 "cells": [
  {
   "cell_type": "code",
   "execution_count": 1,
   "id": "aabd3dfa-60b8-420e-9c2e-05ace7a5d914",
   "metadata": {},
   "outputs": [
    {
     "name": "stdin",
     "output_type": "stream",
     "text": [
      "enter a number: 2\n"
     ]
    },
    {
     "name": "stdout",
     "output_type": "stream",
     "text": [
      "even\n"
     ]
    }
   ],
   "source": [
    "# wap ask the user enter a number\n",
    "# find it is a even number or odd number\n",
    "# idea: any number divide by 2 , the remiander=0\n",
    "#       it is called as even number\n",
    "n=int(input(\"enter a number:\"))\n",
    "if n%2==0:\n",
    "    print(\"even\")\n",
    "else:\n",
    "    print(\"odd\")"
   ]
  },
  {
   "cell_type": "code",
   "execution_count": 2,
   "id": "024f4373-ec17-4a86-8de6-af5d833f4344",
   "metadata": {},
   "outputs": [
    {
     "name": "stdout",
     "output_type": "stream",
     "text": [
      "the 80 is even\n"
     ]
    }
   ],
   "source": [
    "#Implement the above problem by taking a random input  between  1, 100\n",
    "\n",
    "import random\n",
    "num=random.randint(1,100)\n",
    "if num%2==0:\n",
    "    print(f\"the {num} is even\")\n",
    "else:\n",
    "    print(f\"the {num} is odd\")"
   ]
  },
  {
   "cell_type": "code",
   "execution_count": 3,
   "id": "3ebe4fe9-79e2-404c-b474-9b166516660c",
   "metadata": {},
   "outputs": [
    {
     "name": "stdin",
     "output_type": "stream",
     "text": [
      "enter a no of kilometers: 26\n",
      "enter the charge of 1km: 20\n"
     ]
    },
    {
     "name": "stdout",
     "output_type": "stream",
     "text": [
      "the total charge is 1600\n"
     ]
    }
   ],
   "source": [
    "# wap ask the user enter the distance\n",
    "# if distance greater than 25km\n",
    "#      then enter the charge\n",
    "#      print the total cost\n",
    "#otherwise\n",
    "#      print free ride\n",
    "distance=eval(input(\"enter a no of kilometers:\"))-.lo9\n",
    "if num>25:\n",
    "    charge_1km=eval(input(\"enter the charge of 1km:\"))\n",
    "    total=num*charge_1km\n",
    "    print(f\"the total charge is {total}\")\n",
    "else:\n",
    "    print(\"the ride is free of coast\")"
   ]
  },
  {
   "cell_type": "code",
   "execution_count": 7,
   "id": "1023d864-c21a-4993-b9f1-6b274c4e25b7",
   "metadata": {},
   "outputs": [
    {
     "name": "stdin",
     "output_type": "stream",
     "text": [
      "enter the distance: 40\n"
     ]
    },
    {
     "name": "stdout",
     "output_type": "stream",
     "text": [
      "good news your charge is aplicable for only remaining of 25\n"
     ]
    },
    {
     "name": "stdin",
     "output_type": "stream",
     "text": [
      "enter the charge: 20\n"
     ]
    },
    {
     "name": "stdout",
     "output_type": "stream",
     "text": [
      "the total charge for extra 15 is 300\n"
     ]
    }
   ],
   "source": [
    "# wap ask the user enter the distance\n",
    "# cutoff distance enter 25\n",
    "# if distance greater than 25km\n",
    "#      print(\"good news your charge is aplicable for only remaining of 25\")\n",
    "#      chargeble distance= distance-cutoff\n",
    "#      then enter the charge\n",
    "#      print the total cost\n",
    "#otherwise\n",
    "#      print free ride\n",
    "\n",
    "\n",
    "user=eval(input(\"enter the distance:\"))\n",
    "cutoff_distance=25\n",
    "if user>25:\n",
    "    print(\"good news your charge is aplicable for only remaining of 25\")\n",
    "    chargeble_distance=user-cutoff_distance\n",
    "    charge=eval(input(\"enter the charge:\"))\n",
    "    total=chargeble_distance*charge\n",
    "    print(f\"the total charge for extra {chargeble_distance} is {total}\")\n",
    "else:\n",
    "    print(\"free ride\")"
   ]
  },
  {
   "cell_type": "code",
   "execution_count": 12,
   "id": "5ce6e81c-4347-4b0f-a638-9ff9516723bb",
   "metadata": {},
   "outputs": [
    {
     "name": "stdin",
     "output_type": "stream",
     "text": [
      "enter the course: data science\n",
      "enter the institute: naresh it\n"
     ]
    },
    {
     "name": "stdout",
     "output_type": "stream",
     "text": [
      "your are good\n"
     ]
    }
   ],
   "source": [
    "# wap ask the user enter the course\n",
    "# ask the user enter the Institute\n",
    "# if the course equal to data science and institute equal to naresh it\n",
    "#     then you are good\n",
    "# otherwise\n",
    "#     you are bad\n",
    "course=input(\"enter the course:\")\n",
    "institute=input(\"enter the institute:\")\n",
    "if course=='data science' and institute=='naresh it':\n",
    "    print(\"your are good\")\n",
    "else:\n",
    "    print(\"your are bad\")"
   ]
  },
  {
   "cell_type": "code",
   "execution_count": 15,
   "id": "af68d113-7ca7-4a01-bee1-a864679f8eec",
   "metadata": {},
   "outputs": [
    {
     "name": "stdin",
     "output_type": "stream",
     "text": [
      "enter the number: 4\n"
     ]
    },
    {
     "name": "stdout",
     "output_type": "stream",
     "text": [
      "you won\n"
     ]
    }
   ],
   "source": [
    "# wap ask the user enter a random number between 1 to 10, treat this as number1\n",
    "# ask the user enter another number from keyboard, treat this as number2\n",
    "# if number1 equal to number2\n",
    "#     print you won\n",
    "# otherwise\n",
    "#     print you lost\n",
    "number1=random.randint(1,10)\n",
    "number=eval(input(\"enter the number:\"))\n",
    "if number1==number:\n",
    "    print(\"you won\")\n",
    "else:\n",
    "    print(\"you lost\")\n"
   ]
  },
  {
   "cell_type": "code",
   "execution_count": 17,
   "id": "79270e11-575f-467f-8ccd-0403ae5fbc69",
   "metadata": {},
   "outputs": [
    {
     "name": "stdin",
     "output_type": "stream",
     "text": [
      "enter a number 3\n"
     ]
    },
    {
     "name": "stdout",
     "output_type": "stream",
     "text": [
      "three\n"
     ]
    }
   ],
   "source": [
    "# wap ask the user enter number\n",
    "# if number equal to 1 then print one\n",
    "# if number equal to 2 then print two\n",
    "# if number equal to 3 then print three\n",
    "# otherwise  print enter a valid number\n",
    "number=eval(input(\"enter a number\"))\n",
    "if number==1:print(\"one\")\n",
    "elif number==2:print(\"two\")\n",
    "elif number==3:print(\"three\")\n",
    "else:print(\"enter valid number\")"
   ]
  },
  {
   "cell_type": "code",
   "execution_count": 22,
   "id": "64ce8c58-2692-42ea-bdad-4ce7a74ae8df",
   "metadata": {},
   "outputs": [
    {
     "name": "stdin",
     "output_type": "stream",
     "text": [
      "enter number 0\n"
     ]
    },
    {
     "name": "stdout",
     "output_type": "stream",
     "text": [
      "negative\n"
     ]
    }
   ],
   "source": [
    "# wap ask the user enter a number\n",
    "# if that number greater than zero print postive\n",
    "# if that number less than zero print negative\n",
    "# otherwise print zero\n",
    "number=eval(input(\"enter number\"))\n",
    "if number>0:\n",
    "    print(\"positive\")\n",
    "elif number<0:\n",
    "    print(\"negative\")\n",
    "else:\n",
    "    print(\"negative\")"
   ]
  },
  {
   "cell_type": "code",
   "execution_count": 26,
   "id": "2b556384-88a6-4485-89ca-a0fbd2bf46d4",
   "metadata": {},
   "outputs": [
    {
     "name": "stdin",
     "output_type": "stream",
     "text": [
      "enter a number 95\n"
     ]
    },
    {
     "name": "stdout",
     "output_type": "stream",
     "text": [
      "a grade\n"
     ]
    }
   ],
   "source": [
    "# WAP ask the user enter the percentage of marks 0 to 100\n",
    "# if percentagw gretaer than 90  print A garde\n",
    "# if percentage between 75 to 90 print B garde\n",
    "# if percentage between 50 to 75 print C grade\n",
    "# if percentage between 35 to 50 print D grade\n",
    "# if percentage less than 35 print Fail\n",
    "n=eval(input(\"enter a number\"))\n",
    "if n>90:\n",
    "    print(\"a grade\")\n",
    "elif n>70:\n",
    "    print(\"b grade\")\n",
    "elif n>=50:\n",
    "    print(\"c grade\")\n",
    "elif n>=35:\n",
    "    print(\"d grade\")\n",
    "else:\n",
    "    print(\"fail\")"
   ]
  },
  {
   "cell_type": "code",
   "execution_count": 35,
   "id": "8c20750f-498e-4fa9-92f5-b454c2c386fc",
   "metadata": {},
   "outputs": [
    {
     "name": "stdin",
     "output_type": "stream",
     "text": [
      "enter a number 70\n"
     ]
    },
    {
     "name": "stdout",
     "output_type": "stream",
     "text": [
      "ss\n"
     ]
    }
   ],
   "source": [
    "#WAP ask the user enter the age\n",
    "# if the age greater tahn 100 print you are lucky\n",
    "# if the age gretaer than 75 print old age\n",
    "# if the age  between 50 to 75 print ss\n",
    "# if the age between  30 tp 50 print MA\n",
    "# if the age between  15 to 30 print young age\n",
    "# if the afe between less than 15 print kid\n",
    "age=eval(input(\"enter a number\"))\n",
    "if age>=100:\n",
    "    print(\"lucky\")\n",
    "elif age>=75:\n",
    "    print(\"old age\")\n",
    "elif age>=50:\n",
    "    print(\"ss\")\n",
    "elif age>=30:\n",
    "    print(\"ma\")\n",
    "elif age>=15:\n",
    "    print(\"young age\")\n",
    "else:\n",
    "    print(\"kid\")"
   ]
  },
  {
   "cell_type": "code",
   "execution_count": null,
   "id": "634aa332-05fa-4b74-b696-e0421d1b9172",
   "metadata": {},
   "outputs": [],
   "source": []
  }
 ],
 "metadata": {
  "kernelspec": {
   "display_name": "Python 3 (ipykernel)",
   "language": "python",
   "name": "python3"
  },
  "language_info": {
   "codemirror_mode": {
    "name": "ipython",
    "version": 3
   },
   "file_extension": ".py",
   "mimetype": "text/x-python",
   "name": "python",
   "nbconvert_exporter": "python",
   "pygments_lexer": "ipython3",
   "version": "3.11.7"
  }
 },
 "nbformat": 4,
 "nbformat_minor": 5
}
